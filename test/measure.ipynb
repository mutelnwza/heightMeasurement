{
 "cells": [
  {
   "cell_type": "code",
   "execution_count": 3,
   "metadata": {},
   "outputs": [
    {
     "name": "stdout",
     "output_type": "stream",
     "text": [
      "{'shoulder_midpoint': (354.62563037872314, 286.5216471552849)}\n"
     ]
    }
   ],
   "source": [
    "import cv2\n",
    "import mediapipe as mp\n"
   ]
  },
  {
   "cell_type": "code",
   "execution_count": 2,
   "metadata": {},
   "outputs": [
    {
     "name": "stdout",
     "output_type": "stream",
     "text": [
      "Note: you may need to restart the kernel to use updated packages.\n"
     ]
    },
    {
     "name": "stderr",
     "output_type": "stream",
     "text": [
      "ERROR: Could not find a version that satisfies the requirement tf-pose-estimation (from versions: none)\n",
      "ERROR: No matching distribution found for tf-pose-estimation\n"
     ]
    }
   ],
   "source": [
    "def check_organ_position(organ_positions):\n",
    "    \"\"\"\n",
    "    Check the position of an organ based on available positions.\n",
    "    \n",
    "    Args:\n",
    "    organ_positions (dict): A dictionary with keys 'left', 'right', 'top', 'bottom' \n",
    "                            representing the positions of the organ in the image.\n",
    "                            The values can be coordinates or any identifying label.\n",
    "    \n",
    "    Returns:\n",
    "    str: The detected position of the organ.\n",
    "    \"\"\"\n",
    "    if 'left' in organ_positions and organ_positions['left']:\n",
    "        return f\"Organ is on the left at position {organ_positions['left']}\"\n",
    "    elif 'right' in organ_positions and organ_positions['right']:\n",
    "        return f\"Organ is on the right at position {organ_positions['right']}\"\n",
    "    elif 'top' in organ_positions and organ_positions['top']:\n",
    "        return f\"Organ is on the top at position {organ_positions['top']}\"\n",
    "    elif 'bottom' in organ_positions and organ_positions['bottom']:\n",
    "        return f\"Organ is on the bottom at position {organ_positions['bottom']}\"\n",
    "    else:\n",
    "        return \"Organ position is not found.\"\n",
    "\n",
    "# MediaPipe setup\n",
    "mp_pose = mp.solutions.pose\n",
    "pose = mp_pose.Pose()\n",
    "\n",
    "def get_pose_landmarks(image):\n",
    "    \"\"\"\n",
    "    Detects pose landmarks in an image using MediaPipe Pose.\n",
    "    \n",
    "    Args:\n",
    "    image (ndarray): The input image.\n",
    "    \n",
    "    Returns:\n",
    "    dict: A dictionary with keys 'left', 'right', 'top', 'bottom' and their corresponding positions.\n",
    "    \"\"\"\n",
    "    image_rgb = cv2.cvtColor(image, cv2.COLOR_BGR2RGB)\n",
    "    results = pose.process(image_rgb)\n",
    "    \n",
    "    if not results.pose_landmarks:\n",
    "        return {'left': None, 'right': None, 'top': None, 'bottom': None}\n",
    "    \n",
    "    landmarks = results.pose_landmarks.landmark\n",
    "    height, width, _ = image.shape\n",
    "    \n",
    "    organ_positions = {\n",
    "        'left': (int(landmarks[mp_pose.PoseLandmark.LEFT_SHOULDER].x * width), int(landmarks[mp_pose.PoseLandmark.LEFT_SHOULDER].y * height)),\n",
    "        'right': (int(landmarks[mp_pose.PoseLandmark.RIGHT_SHOULDER].x * width), int(landmarks[mp_pose.PoseLandmark.RIGHT_SHOULDER].y * height)),\n",
    "        'top': (int(landmarks[mp_pose.PoseLandmark.NOSE].x * width), int(landmarks[mp_pose.PoseLandmark.NOSE].y * height)),\n",
    "        'bottom': (int(landmarks[mp_pose.PoseLandmark.LEFT_HIP].x * width), int(landmarks[mp_pose.PoseLandmark.LEFT_HIP].y * height))\n",
    "    }\n",
    "    \n",
    "    return organ_positions\n"
   ]
  },
  {
   "cell_type": "code",
   "execution_count": null,
   "metadata": {},
   "outputs": [],
   "source": []
  }
 ],
 "metadata": {
  "kernelspec": {
   "display_name": ".venv",
   "language": "python",
   "name": "python3"
  },
  "language_info": {
   "codemirror_mode": {
    "name": "ipython",
    "version": 3
   },
   "file_extension": ".py",
   "mimetype": "text/x-python",
   "name": "python",
   "nbconvert_exporter": "python",
   "pygments_lexer": "ipython3",
   "version": "3.10.0"
  }
 },
 "nbformat": 4,
 "nbformat_minor": 2
}
